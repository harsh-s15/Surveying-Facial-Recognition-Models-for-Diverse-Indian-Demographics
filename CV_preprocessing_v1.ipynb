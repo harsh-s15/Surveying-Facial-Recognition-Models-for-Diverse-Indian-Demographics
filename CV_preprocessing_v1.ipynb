{
  "cells": [
    {
      "cell_type": "code",
      "execution_count": null,
      "metadata": {
        "id": "uEFTW6ywOM74"
      },
      "outputs": [],
      "source": [
        "!pip install retina-face"
      ]
    },
    {
      "cell_type": "code",
      "execution_count": 2,
      "metadata": {
        "id": "2_UWpjwdOQ5m"
      },
      "outputs": [],
      "source": [
        "from retinaface import RetinaFace\n",
        "from PIL import Image\n",
        "import os\n",
        "import random\n",
        "import PIL, PIL.ImageOps, PIL.ImageEnhance, PIL.ImageDraw\n",
        "import numpy as np\n",
        "import torch\n",
        "from PIL import Image\n",
        "import os\n",
        "import shutil\n",
        "import cv2\n",
        "from google.colab.patches import cv2_imshow"
      ]
    },
    {
      "cell_type": "markdown",
      "metadata": {
        "id": "Fuhzr24hQImE"
      },
      "source": [
        "Dataset Creation"
      ]
    },
    {
      "cell_type": "code",
      "execution_count": 24,
      "metadata": {
        "id": "LYY3at6RQKQn"
      },
      "outputs": [],
      "source": [
        "path = \"/content/drive/MyDrive/Custom_Harsh\""
      ]
    },
    {
      "cell_type": "code",
      "execution_count": null,
      "metadata": {
        "id": "RDFQS1HCQIbY"
      },
      "outputs": [],
      "source": [
        "\n",
        "def rename_images(folder):\n",
        "    \"\"\"Rename images in each subfolder from 1 to 10.\"\"\"\n",
        "    for root, dirs, files in os.walk(folder):\n",
        "        for dir_name in dirs:\n",
        "            dir_path = os.path.join(root, dir_name)\n",
        "            image_files = [f for f in os.listdir(dir_path) if os.path.isfile(os.path.join(dir_path, f))]\n",
        "            image_files.sort()  # Sort files to ensure consistent order\n",
        "            for i, old_name in enumerate(image_files, 1):\n",
        "                new_name = f\"{i}.jpg\"  # Change the extension accordingly if needed\n",
        "                old_path = os.path.join(dir_path, old_name)\n",
        "                new_path = os.path.join(dir_path, new_name)\n",
        "                os.rename(old_path, new_path)\n",
        "                print(f\"Renamed: {old_name} to {new_name}\")\n",
        "\n",
        "# Replace 'path_to_folder' with the actual path to the folder containing subfolders with images\n",
        "folder_path = path\n",
        "\n",
        "rename_images(folder_path)\n"
      ]
    },
    {
      "cell_type": "code",
      "execution_count": null,
      "metadata": {
        "id": "RoMQF_5lQIY0"
      },
      "outputs": [],
      "source": [
        "\n",
        "\n",
        "def copy_images(folder):\n",
        "    \"\"\"Copy images from each subfolder to a new folder named Custom_Dataset.\"\"\"\n",
        "    output_folder = \"Custom_Dataset\"\n",
        "    os.makedirs(output_folder, exist_ok=True)  # Create output folder if not exists\n",
        "\n",
        "    for root, dirs, files in os.walk(folder):\n",
        "        for dir_name in dirs:\n",
        "            dir_path = os.path.join(root, dir_name)\n",
        "            image_files = [f for f in os.listdir(dir_path) if os.path.isfile(os.path.join(dir_path, f))]\n",
        "            image_files.sort()  # Sort files to ensure consistent order\n",
        "\n",
        "            for i, old_name in enumerate(image_files, 1):\n",
        "                old_path = os.path.join(dir_path, old_name)\n",
        "                print(old_path)\n",
        "\n",
        "                image = cv2.imread(old_path)\n",
        "                #cv2_imshow(image)\n",
        "                image = RetinaFace.extract_faces(img_path = old_path , align = True)\n",
        "                for face in image:\n",
        "                  # cv2_imshow(face)\n",
        "                  image_rgb = cv2.cvtColor(face, cv2.COLOR_BGR2RGB)\n",
        "                  image_rgb = cv2.resize(image_rgb, (250, 250), interpolation = cv2.INTER_LINEAR)\n",
        "                  # cv2_imshow(image_rgb)\n",
        "                  cv2.imwrite(old_path, image_rgb)\n",
        "\n",
        "                #break\n",
        "                # new_path = os.path.join(output_folder, new_name)\n",
        "                # shutil.copy(old_path, new_path)\n",
        "                # print(f\"Copied: {old_name} to {new_name}\")\n",
        "\n",
        "# Example usage\n",
        "copy_images(path)\n"
      ]
    },
    {
      "cell_type": "code",
      "source": [
        "def ShearX(img, v):  # [-0.3, 0.3]\n",
        "    assert -0.3 <= v <= 0.3\n",
        "    if random.random() > 0.5:\n",
        "        v = -v\n",
        "    return img.transform(img.size, PIL.Image.AFFINE, (1, v, 0, 0, 1, 0))\n",
        "\n",
        "def Rotate(img, v):  # [-30, 30]\n",
        "    assert -30 <= v <= 30\n",
        "    if random.random() > 0.5:\n",
        "        v = -v\n",
        "    return img.rotate(v)\n",
        "\n",
        "def AutoContrast(img, _):\n",
        "    return PIL.ImageOps.autocontrast(img)\n",
        "\n",
        "def Equalize(img, _):\n",
        "    return PIL.ImageOps.equalize(img)\n",
        "\n",
        "def Contrast(img, v):  # [0.1,1.9]\n",
        "    assert 0.1 <= v <= 1.9\n",
        "    return PIL.ImageEnhance.Contrast(img).enhance(v)\n",
        "\n",
        "def Brightness(img, v):  # [0.1,1.9]\n",
        "    assert 0.1 <= v <= 1.9\n",
        "    return PIL.ImageEnhance.Brightness(img).enhance(v)\n",
        "\n",
        "def Sharpness(img, v):  # [0.1,1.9]\n",
        "    assert 0.1 <= v <= 1.9\n",
        "    return PIL.ImageEnhance.Sharpness(img).enhance(v)"
      ],
      "metadata": {
        "id": "5nnW5X8BqwuG"
      },
      "execution_count": 17,
      "outputs": []
    },
    {
      "cell_type": "code",
      "source": [
        "def Augment_Handler(old_path, new_path):\n",
        "  os.makedirs(new_path, exist_ok=True)\n",
        "  itr =1\n",
        "  files = os.listdir(old_path)\n",
        "  for file in files:\n",
        "    print(file)\n",
        "    image = cv2.imread(old_path+\"/\"+ file)\n",
        "    image = cv2.resize(image, (250, 250), interpolation = cv2.INTER_LINEAR)\n",
        "    image.shape\n",
        "\n",
        "    path = new_path+  str(itr)+\".jpg\"\n",
        "    itr+=1\n",
        "    cv2.imwrite(path, image)\n",
        "\n",
        "    img_pil = Image.fromarray(image)\n",
        "\n",
        "    img_1= ShearX(img_pil, -0.05)\n",
        "    img_2= AutoContrast(img_pil, 0.4)\n",
        "    img_3= Equalize(img_pil, 0.4)\n",
        "    img_4= Sharpness(img_pil, 0.4)\n",
        "    img_5= Brightness(img_pil, 1.4)\n",
        "    img_6= Brightness(img_pil, 1.6)\n",
        "    img_7= Rotate(img_pil, 10)\n",
        "\n",
        "    path = new_path+  str(itr)+\".jpg\"\n",
        "    itr+=1\n",
        "    img_np = np.array(img_1)\n",
        "    cv2.imwrite(path, img_np)\n",
        "\n",
        "    path = new_path+ str(itr)+\".jpg\"\n",
        "    itr+=1\n",
        "    img_np = np.array(img_2)\n",
        "    cv2.imwrite(path, img_np)\n",
        "\n",
        "    path = new_path+ str(itr)+\".jpg\"\n",
        "    itr+=1\n",
        "    img_np = np.array(img_3)\n",
        "    cv2.imwrite(path, img_np)\n",
        "\n",
        "    path = new_path+ str(itr)+\".jpg\"\n",
        "    itr+=1\n",
        "    img_np = np.array(img_4)\n",
        "    cv2.imwrite(path, img_np)\n",
        "\n",
        "    path = new_path+ str(itr)+\".jpg\"\n",
        "    itr+=1\n",
        "    img_np = np.array(img_5)\n",
        "    cv2.imwrite(path, img_np)\n",
        "\n",
        "    path = new_path+ str(itr)+\".jpg\"\n",
        "    itr+=1\n",
        "    img_np = np.array(img_6)\n",
        "    cv2.imwrite(path, img_np)\n",
        "\n",
        "    path = new_path+ str(itr)+\".jpg\"\n",
        "    itr+=1\n",
        "    img_np = np.array(img_7)\n",
        "    cv2.imwrite(path, img_np)\n",
        "\n",
        "\n",
        "\n"
      ],
      "metadata": {
        "id": "5D45TJzys6fV"
      },
      "execution_count": 18,
      "outputs": []
    },
    {
      "cell_type": "markdown",
      "source": [
        "Run after checking the images only"
      ],
      "metadata": {
        "id": "JvzryGhC83uI"
      }
    },
    {
      "cell_type": "code",
      "source": [
        "dir_path = path\n",
        "files = os.listdir(dir_path)\n",
        "for file in files:\n",
        "    print(\"Augmentation for the following folder:\" ,dir_path + file )\n",
        "    folder_path = dir_path + \"/\"+file\n",
        "    new_path = \"/content/drive/MyDrive/Custom_Dataset/\" + file +\"/\"\n",
        "    print(new_path)\n",
        "    Augment_Handler( folder_path, new_path)"
      ],
      "metadata": {
        "id": "7Fc7oB694Hr8",
        "colab": {
          "base_uri": "https://localhost:8080/"
        },
        "outputId": "22ca1733-ef98-48ea-f1d5-7d1cae0ab758"
      },
      "execution_count": 25,
      "outputs": [
        {
          "output_type": "stream",
          "name": "stdout",
          "text": [
            "Augmentation for the following folder: /content/drive/MyDrive/Custom_Harshpavani\n",
            "/content/drive/MyDrive/Custom_Dataset/pavani/\n",
            "3.jpg\n",
            "6.jpg\n",
            "1.jpg\n",
            "4.jpg\n",
            "2.jpg\n",
            "5.jpg\n",
            "Augmentation for the following folder: /content/drive/MyDrive/Custom_Harshdisha\n",
            "/content/drive/MyDrive/Custom_Dataset/disha/\n",
            "2.jpg\n",
            "1.jpg\n",
            "3.jpg\n",
            "4.jpg\n",
            "9.jpg\n",
            "10.jpg\n",
            "6.jpg\n",
            "5.jpg\n",
            "7.jpg\n",
            "11.jpg\n",
            "Augmentation for the following folder: /content/drive/MyDrive/Custom_Harshnaman\n",
            "/content/drive/MyDrive/Custom_Dataset/naman/\n",
            "1.jpg\n",
            "2.jpg\n",
            "6.jpg\n",
            "10.jpg\n",
            "7.jpg\n",
            "8.jpg\n",
            "9.jpg\n",
            "Augmentation for the following folder: /content/drive/MyDrive/Custom_Harshvaniya\n",
            "/content/drive/MyDrive/Custom_Dataset/vaniya/\n",
            "1.jpg\n",
            "2.jpg\n",
            "6.jpg\n",
            "9.jpg\n",
            "4.jpg\n",
            "5.jpg\n",
            "Augmentation for the following folder: /content/drive/MyDrive/Custom_Harshkaran\n",
            "/content/drive/MyDrive/Custom_Dataset/karan/\n",
            "8.jpg\n",
            "3.jpg\n",
            "7.jpg\n",
            "4.jpg\n",
            "6.jpg\n",
            "5.jpg\n",
            "2.jpg\n",
            "Augmentation for the following folder: /content/drive/MyDrive/Custom_Harshrishabh\n",
            "/content/drive/MyDrive/Custom_Dataset/rishabh/\n",
            "10.jpg\n",
            "9.jpg\n",
            "7.jpg\n",
            "11.jpg\n",
            "4.jpg\n",
            "8.jpg\n",
            "2.jpg\n",
            "3.jpg\n",
            "6.jpg\n",
            "Augmentation for the following folder: /content/drive/MyDrive/Custom_Harshamitesh\n",
            "/content/drive/MyDrive/Custom_Dataset/amitesh/\n",
            "6.jpg\n",
            "2.jpg\n",
            "5.jpg\n",
            "4.jpg\n",
            "1.jpg\n",
            "Augmentation for the following folder: /content/drive/MyDrive/Custom_Harshanupam\n",
            "/content/drive/MyDrive/Custom_Dataset/anupam/\n",
            "2.jpg\n",
            "3.jpg\n",
            "5.jpg\n",
            "Augmentation for the following folder: /content/drive/MyDrive/Custom_Harshvirender\n",
            "/content/drive/MyDrive/Custom_Dataset/virender/\n",
            "5.jpg\n",
            "4.jpg\n",
            "11.jpg\n",
            "10.jpg\n",
            "3.jpg\n",
            "2.jpg\n",
            "1.jpg\n",
            "8.jpg\n",
            "9.jpg\n",
            "Augmentation for the following folder: /content/drive/MyDrive/Custom_Harshharsh\n",
            "/content/drive/MyDrive/Custom_Dataset/harsh/\n",
            "5.jpg\n",
            "3.jpg\n",
            "9.jpg\n",
            "2.jpg\n",
            "8.jpg\n",
            "10.jpg\n",
            "4.jpg\n",
            "7.jpg\n",
            "6.jpg\n"
          ]
        }
      ]
    },
    {
      "cell_type": "code",
      "source": [
        "cd \"/content/drive/MyDrive/Custom_Dataset/\""
      ],
      "metadata": {
        "id": "4ZBhCtZ5MNQS",
        "outputId": "429fce0b-6fb7-4b47-e36b-17f1a3929bf9",
        "colab": {
          "base_uri": "https://localhost:8080/"
        }
      },
      "execution_count": 28,
      "outputs": [
        {
          "output_type": "stream",
          "name": "stdout",
          "text": [
            "/content/drive/MyDrive/Custom_Dataset\n"
          ]
        }
      ]
    },
    {
      "cell_type": "code",
      "source": [
        "!ls"
      ],
      "metadata": {
        "id": "tH8zk78HMIBu",
        "outputId": "055991d5-5998-4823-b271-0f70815c38b5",
        "colab": {
          "base_uri": "https://localhost:8080/"
        }
      },
      "execution_count": 29,
      "outputs": [
        {
          "output_type": "stream",
          "name": "stdout",
          "text": [
            " Adarsh\t\t Ankur\t\t    Debesh\t Jatin\t\t  Mukund     Pranav     Tanvi\n",
            " Akriti\t\t Anshul\t\t    dilip\t karan\t\t  naman      rishabh    vaniya\n",
            " Amisha\t\t anupam\t\t    disha\t'Keshav Malani'   Niharika   Rohit      virender\n",
            " amitesh\t Anupam\t\t    Hardik\t Kovidh\t\t  Palash     Samyak\n",
            " Ankit\t\t'Anurag K bharti'   harsh\t Manas\t\t  pavani     Shalin\n",
            "'Ankit Samota'\t Ashwin\t\t    Hrishikesh\t Mayank\t\t  prakhar    Shashwat\n"
          ]
        }
      ]
    },
    {
      "cell_type": "code",
      "source": [],
      "metadata": {
        "id": "CBAxxmJ2MWSY"
      },
      "execution_count": null,
      "outputs": []
    },
    {
      "cell_type": "code",
      "source": [
        "folder_path = '/content/drive/MyDrive/Custom_Dataset/'\n",
        "\n",
        "# List the files in the directory\n",
        "files = os.listdir(folder_path)\n",
        "\n",
        "# Count the number of files\n",
        "Subjects = len(files)"
      ],
      "metadata": {
        "id": "CqNICwmsMisM"
      },
      "execution_count": 31,
      "outputs": []
    },
    {
      "cell_type": "code",
      "source": [
        "print(\"Total number of Subjects:\",Subjects)"
      ],
      "metadata": {
        "id": "RLVMEe1NMqE8",
        "outputId": "6374d1d5-cc8b-4dc6-85ed-56c375485cc0",
        "colab": {
          "base_uri": "https://localhost:8080/"
        }
      },
      "execution_count": 32,
      "outputs": [
        {
          "output_type": "stream",
          "name": "stdout",
          "text": [
            "39\n"
          ]
        }
      ]
    },
    {
      "cell_type": "code",
      "source": [
        "images = 0\n",
        "for file in files:\n",
        "  images += len(os.listdir(folder_path+file+\"/\" ))"
      ],
      "metadata": {
        "id": "y6HQwInVMsso"
      },
      "execution_count": 33,
      "outputs": []
    },
    {
      "cell_type": "code",
      "source": [
        "print(\"Total number of Images:\",images)"
      ],
      "metadata": {
        "id": "PsrxxScBM5sq",
        "outputId": "d3fda174-2aaa-4814-b729-cb449a7d9305",
        "colab": {
          "base_uri": "https://localhost:8080/"
        }
      },
      "execution_count": 34,
      "outputs": [
        {
          "output_type": "execute_result",
          "data": {
            "text/plain": [
              "2816"
            ]
          },
          "metadata": {},
          "execution_count": 34
        }
      ]
    },
    {
      "cell_type": "code",
      "source": [
        "print(\"Average number of Images per Subject:\",images/Subjects)"
      ],
      "metadata": {
        "id": "t1JProvrNHVm",
        "outputId": "9fbdd6f0-2145-4cae-d855-7d48cc9f659e",
        "colab": {
          "base_uri": "https://localhost:8080/"
        }
      },
      "execution_count": 35,
      "outputs": [
        {
          "output_type": "stream",
          "name": "stdout",
          "text": [
            "Average number of Images per Subject: 72.2051282051282\n"
          ]
        }
      ]
    },
    {
      "cell_type": "code",
      "source": [
        "file_paths, labels = [], []\n",
        "for dir in files:\n",
        "   file_images= os.listdir(folder_path+dir+\"/\" )\n",
        "   #print(file_images, dir)\n",
        "   for image_name in file_images:\n",
        "    file_paths.append(folder_path+dir+\"/\"+image_name)\n",
        "    labels.append(dir)\n",
        ""
      ],
      "metadata": {
        "id": "b9lHL_9CNWgJ"
      },
      "execution_count": 39,
      "outputs": []
    },
    {
      "cell_type": "code",
      "source": [
        "import pandas as pd\n",
        "\n",
        "data = {\n",
        "  \"File_Path\": file_paths,\n",
        "  \"Label\": labels\n",
        "}\n",
        "\n",
        "#load data into a DataFrame object:\n",
        "df = pd.DataFrame(data)\n",
        "\n",
        "print(df)"
      ],
      "metadata": {
        "id": "NzAdo2Y8OOtP",
        "outputId": "741b779f-16bf-43f5-f6f2-d72a1233e940",
        "colab": {
          "base_uri": "https://localhost:8080/"
        }
      },
      "execution_count": 40,
      "outputs": [
        {
          "output_type": "stream",
          "name": "stdout",
          "text": [
            "                                              File_Path       Label\n",
            "0     /content/drive/MyDrive/Custom_Dataset/Hrishike...  Hrishikesh\n",
            "1     /content/drive/MyDrive/Custom_Dataset/Hrishike...  Hrishikesh\n",
            "2     /content/drive/MyDrive/Custom_Dataset/Hrishike...  Hrishikesh\n",
            "3     /content/drive/MyDrive/Custom_Dataset/Hrishike...  Hrishikesh\n",
            "4     /content/drive/MyDrive/Custom_Dataset/Hrishike...  Hrishikesh\n",
            "...                                                 ...         ...\n",
            "2811  /content/drive/MyDrive/Custom_Dataset/harsh/68...       harsh\n",
            "2812  /content/drive/MyDrive/Custom_Dataset/harsh/69...       harsh\n",
            "2813  /content/drive/MyDrive/Custom_Dataset/harsh/70...       harsh\n",
            "2814  /content/drive/MyDrive/Custom_Dataset/harsh/71...       harsh\n",
            "2815  /content/drive/MyDrive/Custom_Dataset/harsh/72...       harsh\n",
            "\n",
            "[2816 rows x 2 columns]\n"
          ]
        }
      ]
    },
    {
      "cell_type": "code",
      "source": [
        "# saving the dataframe\n",
        "df.to_csv('/content/drive/MyDrive/CV_Dataset_Utilities/Custom_Dataset.csv')"
      ],
      "metadata": {
        "id": "u6faI-5sOl8X"
      },
      "execution_count": 41,
      "outputs": []
    }
  ],
  "metadata": {
    "colab": {
      "provenance": [],
      "gpuType": "T4"
    },
    "kernelspec": {
      "display_name": "Python 3",
      "name": "python3"
    },
    "language_info": {
      "name": "python"
    },
    "accelerator": "GPU"
  },
  "nbformat": 4,
  "nbformat_minor": 0
}